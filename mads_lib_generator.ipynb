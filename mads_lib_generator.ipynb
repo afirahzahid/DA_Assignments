{
 "cells": [
  {
   "cell_type": "markdown",
   "metadata": {},
   "source": [
    "## Project Mads Lib Generator"
   ]
  },
  {
   "cell_type": "code",
   "execution_count": 3,
   "metadata": {},
   "outputs": [
    {
     "name": "stdout",
     "output_type": "stream",
     "text": [
      "User input can not be empty\n",
      "User input can not be empty\n",
      "Input is invalid, contains digit\n",
      "Input is invalid, contains digit\n",
      "Last weekend, I went to beach with my friends. The sun was shining, and the water was cold.\n",
      "We built a sand castle there. As the day went on, we collected seashells and made wishes as we tossed them into the ocean.\n",
      "When it was time to leave, we watched the sunset paint the sky with orange. After swimming, we had pizza for lunch. \n",
      "It was a wonderful day filled with fun!\n"
     ]
    }
   ],
   "source": [
    "# function to check user input\n",
    "def check_input(user_input):\n",
    "    while True:\n",
    "        # check if input if empty\n",
    "        if not user_input :\n",
    "            print('User input can not be empty')\n",
    "            user_input  = input('Enter Again:')\n",
    "        \n",
    "        # check if input is numeric\n",
    "        elif user_input.isdigit():\n",
    "            print('Input is invalid, contains digit')\n",
    "            user_input  = input('Enter Again:')\n",
    "          \n",
    "        else:\n",
    "            return user_input\n",
    "\n",
    "# get user input and generate a story\n",
    "relation = check_input(input('Enter your relationship: (friends/family)')).lower()\n",
    "adjective1 = check_input(input('Enter and adjective describing the water (hot/cold): ')).lower()\n",
    "noun = check_input(input('Enter what you bulit there: ')).lower()\n",
    "plural_noun = check_input(input('Enter what you collected from the sea: ')).lower()\n",
    "color = check_input(input('Enter color: ')).lower()\n",
    "food = check_input(input('Enter what you eat there: ')).lower()\n",
    "adjective = check_input(input(\"How was the day? wonderful/fun: \")).lower()\n",
    "\n",
    "story_template = (\n",
    "                f'Last weekend, I went to beach with my {relation}. The sun was shining, and the water was {adjective1}.\\n'\n",
    "                f'We built a {noun} there. As the day went on, we collected {plural_noun} and made wishes as we tossed them into the ocean.\\n'\n",
    "                f'When it was time to leave, we watched the sunset paint the sky with {color} color. After swimming, we had {food} for lunch. \\n'\n",
    "                f'It was a {adjective} day.!')\n",
    "      \n",
    "#print the story\n",
    "print(story_template)\n"
   ]
  },
  {
   "cell_type": "markdown",
   "metadata": {},
   "source": [
    "\n",
    "\n"
   ]
  },
  {
   "cell_type": "markdown",
   "metadata": {},
   "source": []
  }
 ],
 "metadata": {
  "kernelspec": {
   "display_name": "Python 3",
   "language": "python",
   "name": "python3"
  },
  "language_info": {
   "codemirror_mode": {
    "name": "ipython",
    "version": 3
   },
   "file_extension": ".py",
   "mimetype": "text/x-python",
   "name": "python",
   "nbconvert_exporter": "python",
   "pygments_lexer": "ipython3",
   "version": "3.10.1"
  }
 },
 "nbformat": 4,
 "nbformat_minor": 2
}
