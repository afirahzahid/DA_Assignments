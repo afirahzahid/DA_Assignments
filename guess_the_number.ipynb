{
 "cells": [
  {
   "cell_type": "code",
   "execution_count": 12,
   "metadata": {},
   "outputs": [
    {
     "name": "stdout",
     "output_type": "stream",
     "text": [
      "Welcome to number guessing game\n",
      "Wrong Answer. Your number is too high\n",
      "Wrong Answer. Your number is too high\n",
      "Invalid user input\n",
      "Invalid user input\n",
      "Wrong Answer. Your number is too high\n",
      "Wrong Answer. Your number is too low\n",
      "Good job, you have guessed the number 2 correctly\n"
     ]
    }
   ],
   "source": [
    "import random\n",
    "\n",
    "# generate a random number between 1 and 10\n",
    "random_number = random.randint(1, 10)\n",
    "print('Welcome to number guessing game')\n",
    "\n",
    "while True:\n",
    "    # ask the user to guess a number \n",
    "    number = input('Guess a number between 1 to 10')\n",
    "    try: \n",
    "        number = int(number)\n",
    "        # check the number if it is closed to random number generated\n",
    "        if number > random_number:\n",
    "            print('Wrong Answer. Your number is too high')\n",
    "\n",
    "        elif number < random_number:\n",
    "            print('Wrong Answer. Your number is too low')\n",
    "        \n",
    "        else:\n",
    "            print(f'Good job, you have guessed the number {random_number} correctly')\n",
    "            break\n",
    "\n",
    "        # ask the user if he wants to continue guessing\n",
    "        text = input('Do you want to continue? Yes/No, Y/N').lower()\n",
    "        if text == 'no' or text == 'n':\n",
    "            print('Done')\n",
    "            # break the loop\n",
    "            break\n",
    "\n",
    "        elif text == 'yes' or text == 'y':\n",
    "            continue\n",
    "\n",
    "        else:\n",
    "            # when user gives invalid input\n",
    "            print('Invalid user input')\n",
    "            \n",
    "    except ValueError:\n",
    "        print('Invalid user input')"
   ]
  },
  {
   "cell_type": "code",
   "execution_count": null,
   "metadata": {},
   "outputs": [],
   "source": []
  }
 ],
 "metadata": {
  "kernelspec": {
   "display_name": "Python 3",
   "language": "python",
   "name": "python3"
  },
  "language_info": {
   "codemirror_mode": {
    "name": "ipython",
    "version": 3
   },
   "file_extension": ".py",
   "mimetype": "text/x-python",
   "name": "python",
   "nbconvert_exporter": "python",
   "pygments_lexer": "ipython3",
   "version": "3.10.1"
  }
 },
 "nbformat": 4,
 "nbformat_minor": 2
}
