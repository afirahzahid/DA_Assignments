{
 "cells": [
  {
   "cell_type": "markdown",
   "metadata": {},
   "source": [
    "## Text based Adventure Game"
   ]
  },
  {
   "cell_type": "markdown",
   "metadata": {},
   "source": [
    "![Description of Image](A4.png)"
   ]
  },
  {
   "cell_type": "code",
   "execution_count": 3,
   "metadata": {},
   "outputs": [
    {
     "name": "stdout",
     "output_type": "stream",
     "text": [
      "Welcome to Hunted House Game!\n",
      "You are in room A, where you saw a witch. You are scared. There are rooms at north and east. Where would you like to go?\n"
     ]
    },
    {
     "name": "stdout",
     "output_type": "stream",
     "text": [
      "You have moved 1 steps.\n",
      "Now, you are in room B, there is a weapon for your protection.\n",
      "There are rooms at east and south directions. Where would you like to go next from room B?\n",
      "Please enter a valid direction for the game. (North/South/East/West)\n",
      "There are rooms at east and south directions. Where would you like to go next from room B?\n",
      "You have moved 2 steps.\n",
      "You are in room D. There is a monster and you are scared. If you have any weapon, kill the monster.\n",
      "Yay, you killed the monster!\n",
      "There are rooms at west, south and east directions. Where would you like to go next from room D?\n",
      "You have moved 3 steps.\n",
      "Now, you are in room E, you saw a skeleton. Run. There are rooms at east and west directions. Where would you like to go?\n",
      "You have moved 4 steps.\n",
      "Hurray! You found the exit.\n"
     ]
    }
   ],
   "source": [
    "# dictionary that defines all rooms, in which directions, a user can go from current rooms and their description\n",
    "rooms = {\n",
    "    'A':\n",
    "    {\n",
    "        'north':'B',\n",
    "        'east': 'C',\n",
    "        'Description': 'You are in room A, where you saw a witch. You are scared. There are rooms at north and east. Where would you like to go?'},\n",
    "    'B':\n",
    "    {\n",
    "        'east':'D',\n",
    "        'south': 'A',\n",
    "        'weapon': True,\n",
    "        'Description': 'There are rooms at east and south directions. Where would you like to go next from room B?',\n",
    "        'Description_with_weapon': 'Now, you are in room B, there is a weapon for your protection.'},\n",
    "    'C':\n",
    "    {\n",
    "        'north':'D',\n",
    "        'west': 'A',\n",
    "        'Description': 'Now, you are in room C, someone is behind you with a knife. Run. There are rooms at north and west directions. Where would you like to go?'},\n",
    "    'D':\n",
    "    {\n",
    "        'west':'B',\n",
    "        'east': 'E',\n",
    "        'south': 'C',\n",
    "        'creature': True,\n",
    "        'Description': 'There are rooms at west, south and east directions. Where would you like to go next from room D?',\n",
    "        'Description_for_monster': 'You are in room D. There is a monster and you are scared. If you have any weapon, kill the monster.'},\n",
    "    'E':\n",
    "    {\n",
    "        'west':'D',\n",
    "        'east': 'exit',\n",
    "        'Description': 'Now, you are in room E, you saw a skeleton. Run. There are rooms at east and west directions. Where would you like to go?'},       \n",
    "}\n",
    "\n",
    "# all possible directions\n",
    "directions = {\n",
    "        'north':'north',\n",
    "        'n':'north',\n",
    "        'south':'south',\n",
    "        's':'south',\n",
    "        'east':'east',\n",
    "        'e':'east',\n",
    "        'west':'west',\n",
    "        'w':'west',\n",
    "    }\n",
    "\n",
    "# game started from room A\n",
    "current_room = 'A'\n",
    "print('Welcome to Hunted House Game!')\n",
    "# at start, user does not have any weapon\n",
    "get_weapon = False\n",
    "# at start, there is a monster in a room\n",
    "monstor = True\n",
    "count_steps = 0\n",
    "\n",
    "while True:\n",
    "    # check if there is weapon in a room\n",
    "    if rooms[current_room].get('weapon') and not get_weapon:\n",
    "        get_weapon = True\n",
    "        print(rooms[current_room]['Description_with_weapon'])\n",
    "\n",
    "    # handle when user encounters a monster\n",
    "    if rooms[current_room].get('creature') and monstor:\n",
    "        # print room description\n",
    "        print(rooms[current_room]['Description_for_monster'])\n",
    "        # get input from user if he wants to fight with monster\n",
    "        user_input = input('Do you want to fight with monster? yes/no').lower()\n",
    "        if user_input == 'yes' or user_input == 'y':\n",
    "            if get_weapon:\n",
    "                print('Yay, you killed the monster!')\n",
    "                monstor = False\n",
    "            else:\n",
    "                print(\"Unfortunately, you don't have a weapon. So, monster killed you.\")\n",
    "                break\n",
    "        elif user_input == 'no' or user_input == 'n':\n",
    "            print(\"Unfortunately, monster killed you.\")\n",
    "            break\n",
    "    \n",
    "    # give the room description\n",
    "    print(rooms[current_room]['Description'])\n",
    "    # ask user in which direction he wants to go\n",
    "    user_input = input('Enter in which direction you want to go?').lower()\n",
    "    # check if user give valid direction to move\n",
    "    direction = directions.get(user_input)\n",
    "    if direction is None:\n",
    "        # when user enters invalid direction, print this message as user can only go in 4 directions(N/S/E/W) from any room\n",
    "        print('Please enter a valid direction for the game. (North/South/East/West)')\n",
    "\n",
    "    elif direction in rooms[current_room].keys():\n",
    "        # update current room when user moves to the next room\n",
    "        current_room = rooms[current_room][direction]\n",
    "        count_steps +=  1\n",
    "        print(f'You have moved {count_steps} steps.')\n",
    "\n",
    "        if current_room == 'exit':\n",
    "            print('Hurray! You found the exit.')\n",
    "            break\n",
    "    else:\n",
    "        # if user enters the wrong direction\n",
    "        print(\"You can not move in that direction; there's a wall.\")    \n"
   ]
  },
  {
   "cell_type": "code",
   "execution_count": null,
   "metadata": {},
   "outputs": [],
   "source": []
  }
 ],
 "metadata": {
  "kernelspec": {
   "display_name": "Python 3",
   "language": "python",
   "name": "python3"
  },
  "language_info": {
   "codemirror_mode": {
    "name": "ipython",
    "version": 3
   },
   "file_extension": ".py",
   "mimetype": "text/x-python",
   "name": "python",
   "nbconvert_exporter": "python",
   "pygments_lexer": "ipython3",
   "version": "3.10.1"
  }
 },
 "nbformat": 4,
 "nbformat_minor": 2
}
