{
 "cells": [
  {
   "cell_type": "code",
   "execution_count": 3,
   "metadata": {},
   "outputs": [
    {
     "name": "stdout",
     "output_type": "stream",
     "text": [
      "Dice produces 4\n",
      "Dice produces 4\n",
      "Dice produces 2\n",
      "Dice produces 2\n",
      "Dice produces 2\n",
      "Dice produces 2\n",
      "Dice produces 4\n",
      "Dice produces 3\n",
      "Done\n"
     ]
    }
   ],
   "source": [
    "import random\n",
    "\n",
    "while True:\n",
    "    # generate random number for dice\n",
    "    random_number = random.randrange(1, 6)\n",
    "    print(f'Dice produces {random_number}')\n",
    "\n",
    "    # ask user either he/she wants to continue rolling dice or not \n",
    "    text = input('Do you want to continue? Yes or No')\n",
    "\n",
    "    # check if he want to continue or not\n",
    "    if text.lower() == 'no':\n",
    "        print('Done')\n",
    "\n",
    "        # break the loop\n",
    "        break\n",
    "    elif text.lower() == 'yes':\n",
    "        continue\n",
    "    else:\n",
    "        # when user gives invalid input\n",
    "        print('Invalid user input')\n"
   ]
  },
  {
   "cell_type": "code",
   "execution_count": null,
   "metadata": {},
   "outputs": [],
   "source": []
  }
 ],
 "metadata": {
  "kernelspec": {
   "display_name": "Python 3",
   "language": "python",
   "name": "python3"
  },
  "language_info": {
   "codemirror_mode": {
    "name": "ipython",
    "version": 3
   },
   "file_extension": ".py",
   "mimetype": "text/x-python",
   "name": "python",
   "nbconvert_exporter": "python",
   "pygments_lexer": "ipython3",
   "version": "3.10.1"
  }
 },
 "nbformat": 4,
 "nbformat_minor": 2
}
