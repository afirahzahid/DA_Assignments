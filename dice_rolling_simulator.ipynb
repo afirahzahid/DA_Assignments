{
 "cells": [
  {
   "cell_type": "code",
   "execution_count": 3,
   "metadata": {},
   "outputs": [
    {
     "name": "stdout",
     "output_type": "stream",
     "text": [
      "Dice produces 2\n",
      "Dice produces 5\n",
      "Dice produces 1\n",
      "Dice produces 1\n",
      "Dice produces 4\n",
      "Done\n"
     ]
    }
   ],
   "source": [
    "import random\n",
    "while True:\n",
    "    random_number = random.randrange(1, 6)\n",
    "    print(f'Dice produces {random_number}')\n",
    "    text = input('Do you want to continue? Yes or No')\n",
    "    if text.lower() == 'no':\n",
    "        print('Done')\n",
    "        break\n"
   ]
  },
  {
   "cell_type": "code",
   "execution_count": null,
   "metadata": {},
   "outputs": [],
   "source": []
  }
 ],
 "metadata": {
  "kernelspec": {
   "display_name": "Python 3",
   "language": "python",
   "name": "python3"
  },
  "language_info": {
   "codemirror_mode": {
    "name": "ipython",
    "version": 3
   },
   "file_extension": ".py",
   "mimetype": "text/x-python",
   "name": "python",
   "nbconvert_exporter": "python",
   "pygments_lexer": "ipython3",
   "version": "3.10.1"
  }
 },
 "nbformat": 4,
 "nbformat_minor": 2
}
